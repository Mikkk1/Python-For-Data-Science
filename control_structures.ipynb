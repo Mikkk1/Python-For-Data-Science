{
  "nbformat": 4,
  "nbformat_minor": 0,
  "metadata": {
    "colab": {
      "provenance": [],
      "authorship_tag": "ABX9TyPqzuNWWOFYz6K6WyIDfDNu",
      "include_colab_link": true
    },
    "kernelspec": {
      "name": "python3",
      "display_name": "Python 3"
    },
    "language_info": {
      "name": "python"
    }
  },
  "cells": [
    {
      "cell_type": "markdown",
      "metadata": {
        "id": "view-in-github",
        "colab_type": "text"
      },
      "source": [
        "<a href=\"https://colab.research.google.com/github/Mikkk1/Python-For-Data-Science/blob/main/control_structures.ipynb\" target=\"_parent\"><img src=\"https://colab.research.google.com/assets/colab-badge.svg\" alt=\"Open In Colab\"/></a>"
      ]
    },
    {
      "cell_type": "markdown",
      "source": [
        "# Control Structures:"
      ],
      "metadata": {
        "id": "gXywxyZbPA8x"
      }
    },
    {
      "cell_type": "markdown",
      "source": [
        "## if:\n",
        "## if `condition`: `statement`\n",
        "\n",
        "## if `condition`:\n",
        "      statement1\n",
        "      statement2\n",
        "      statement3\n",
        "\n",
        "## if - else:\n",
        "\n",
        "## if `condition`:\n",
        "      statement1\n",
        "      statement2\n",
        "      statement3\n",
        "\n",
        "## else:\n",
        "      statement1\n",
        "      statement2\n",
        "      statement3\n",
        "\n",
        "## if - elif - else:\n",
        "\n",
        "## if `condition`:\n",
        "      statement1\n",
        "      statement2\n",
        "      statement3\n",
        "\n",
        "## elif `condition`:\n",
        "      statement1\n",
        "      statement2\n",
        "      statement3\n",
        "\n",
        "## else:\n",
        "      statement1\n",
        "      statement2\n",
        "      statement3"
      ],
      "metadata": {
        "id": "jUlY2EyIPNcp"
      }
    },
    {
      "cell_type": "code",
      "execution_count": null,
      "metadata": {
        "colab": {
          "base_uri": "https://localhost:8080/"
        },
        "id": "lhnyWQBBO7sr",
        "outputId": "4174fc36-bdc7-45f0-a4f0-4d8bd21c28de"
      },
      "outputs": [
        {
          "output_type": "stream",
          "name": "stdout",
          "text": [
            "Enter your marks: 67\n",
            "B\n"
          ]
        }
      ],
      "source": [
        "marks = int(input(\"Enter your marks: \"))\n",
        "\n",
        "if marks > 80:\n",
        "  print(\"A\")\n",
        "\n",
        "elif marks > 60 and marks < 70:\n",
        "  print(\"B\")\n",
        "\n",
        "elif marks > 50 and marks < 60:\n",
        "  print(\"C\")\n",
        "\n",
        "else:\n",
        "  print(\"Prhh ly ja k\")"
      ]
    },
    {
      "cell_type": "code",
      "source": [
        "n1 = int(input(\"Enter n1: \"))\n",
        "n2 = int(input(\"Enter n2: \"))\n",
        "n3 = int(input(\"Enter n3: \"))\n",
        "\n",
        "if n1>n2 and n1>n3:\n",
        "  print(\"{} is Greatest.\".format(n1))\n",
        "elif n2>n3:\n",
        "  print(\"{} is Greatest.\".format(n2))\n",
        "else:\n",
        "   print(\"{} is Greatest.\".format(n2))"
      ],
      "metadata": {
        "colab": {
          "base_uri": "https://localhost:8080/"
        },
        "id": "FDLH5Gm_R2SB",
        "outputId": "ee0f41e0-e8ba-49ce-ddd5-4d65e0f9fae1"
      },
      "execution_count": null,
      "outputs": [
        {
          "output_type": "stream",
          "name": "stdout",
          "text": [
            "Enter n1: 96\n",
            "Enter n2: 69\n",
            "Enter n3: 27\n",
            "96 is Greatest.\n"
          ]
        }
      ]
    },
    {
      "cell_type": "markdown",
      "source": [
        "# Loops:\n",
        "\n",
        "## for:\n",
        "\n",
        "\n",
        "## while\n"
      ],
      "metadata": {
        "id": "br8Qxt0vVMP3"
      }
    },
    {
      "cell_type": "code",
      "source": [
        "alpha = 'aeiou'"
      ],
      "metadata": {
        "id": "NrYEBBxFUELt"
      },
      "execution_count": null,
      "outputs": []
    },
    {
      "cell_type": "code",
      "source": [
        "alpha = alpha.split(',')"
      ],
      "metadata": {
        "id": "UhE-gBaDWScT"
      },
      "execution_count": null,
      "outputs": []
    },
    {
      "cell_type": "code",
      "source": [
        "alpha"
      ],
      "metadata": {
        "colab": {
          "base_uri": "https://localhost:8080/"
        },
        "id": "j9CxGF8_WV9X",
        "outputId": "7b76c46c-fae5-4e00-cf2d-229cebbcaa02"
      },
      "execution_count": null,
      "outputs": [
        {
          "output_type": "execute_result",
          "data": {
            "text/plain": [
              "['aeiou']"
            ]
          },
          "metadata": {},
          "execution_count": 12
        }
      ]
    },
    {
      "cell_type": "code",
      "source": [
        "batch = []"
      ],
      "metadata": {
        "id": "jmChw6xJWc11"
      },
      "execution_count": null,
      "outputs": []
    },
    {
      "cell_type": "code",
      "source": [
        "len(batch)"
      ],
      "metadata": {
        "colab": {
          "base_uri": "https://localhost:8080/"
        },
        "id": "ZJBX6VcWYL8o",
        "outputId": "579b75c4-0b72-43b4-df24-ca8f37aee9f6"
      },
      "execution_count": null,
      "outputs": [
        {
          "output_type": "execute_result",
          "data": {
            "text/plain": [
              "0"
            ]
          },
          "metadata": {},
          "execution_count": 23
        }
      ]
    },
    {
      "cell_type": "code",
      "source": [
        "n = int(input(\"Enter number of students: \"))\n",
        "\n",
        "while n != batch:\n",
        "  name = input(\"Enter name: \")\n",
        "  batch.append(name)"
      ],
      "metadata": {
        "colab": {
          "base_uri": "https://localhost:8080/",
          "height": 444
        },
        "id": "RC6JxsmDW1UB",
        "outputId": "e8ccfa0e-0a85-4435-d98e-adfc9adff0aa"
      },
      "execution_count": null,
      "outputs": [
        {
          "name": "stdout",
          "output_type": "stream",
          "text": [
            "Enter number of students: 3\n",
            "Enter name: Sarim\n",
            "Enter name: Sehal\n",
            "Enter name: Bilal\n"
          ]
        },
        {
          "output_type": "error",
          "ename": "KeyboardInterrupt",
          "evalue": "ignored",
          "traceback": [
            "\u001b[0;31m---------------------------------------------------------------------------\u001b[0m",
            "\u001b[0;31mKeyboardInterrupt\u001b[0m                         Traceback (most recent call last)",
            "\u001b[0;32m<ipython-input-29-87a6d2416866>\u001b[0m in \u001b[0;36m<cell line: 3>\u001b[0;34m()\u001b[0m\n\u001b[1;32m      2\u001b[0m \u001b[0;34m\u001b[0m\u001b[0m\n\u001b[1;32m      3\u001b[0m \u001b[0;32mwhile\u001b[0m \u001b[0mn\u001b[0m \u001b[0;34m!=\u001b[0m \u001b[0mbatch\u001b[0m\u001b[0;34m:\u001b[0m\u001b[0;34m\u001b[0m\u001b[0;34m\u001b[0m\u001b[0m\n\u001b[0;32m----> 4\u001b[0;31m   \u001b[0mname\u001b[0m \u001b[0;34m=\u001b[0m \u001b[0minput\u001b[0m\u001b[0;34m(\u001b[0m\u001b[0;34m\"Enter name: \"\u001b[0m\u001b[0;34m)\u001b[0m\u001b[0;34m\u001b[0m\u001b[0;34m\u001b[0m\u001b[0m\n\u001b[0m\u001b[1;32m      5\u001b[0m   \u001b[0mbatch\u001b[0m\u001b[0;34m.\u001b[0m\u001b[0mappend\u001b[0m\u001b[0;34m(\u001b[0m\u001b[0mname\u001b[0m\u001b[0;34m)\u001b[0m\u001b[0;34m\u001b[0m\u001b[0;34m\u001b[0m\u001b[0m\n",
            "\u001b[0;32m/usr/local/lib/python3.10/dist-packages/ipykernel/kernelbase.py\u001b[0m in \u001b[0;36mraw_input\u001b[0;34m(self, prompt)\u001b[0m\n\u001b[1;32m    849\u001b[0m                 \u001b[0;34m\"raw_input was called, but this frontend does not support input requests.\"\u001b[0m\u001b[0;34m\u001b[0m\u001b[0;34m\u001b[0m\u001b[0m\n\u001b[1;32m    850\u001b[0m             )\n\u001b[0;32m--> 851\u001b[0;31m         return self._input_request(str(prompt),\n\u001b[0m\u001b[1;32m    852\u001b[0m             \u001b[0mself\u001b[0m\u001b[0;34m.\u001b[0m\u001b[0m_parent_ident\u001b[0m\u001b[0;34m,\u001b[0m\u001b[0;34m\u001b[0m\u001b[0;34m\u001b[0m\u001b[0m\n\u001b[1;32m    853\u001b[0m             \u001b[0mself\u001b[0m\u001b[0;34m.\u001b[0m\u001b[0m_parent_header\u001b[0m\u001b[0;34m,\u001b[0m\u001b[0;34m\u001b[0m\u001b[0;34m\u001b[0m\u001b[0m\n",
            "\u001b[0;32m/usr/local/lib/python3.10/dist-packages/ipykernel/kernelbase.py\u001b[0m in \u001b[0;36m_input_request\u001b[0;34m(self, prompt, ident, parent, password)\u001b[0m\n\u001b[1;32m    893\u001b[0m             \u001b[0;32mexcept\u001b[0m \u001b[0mKeyboardInterrupt\u001b[0m\u001b[0;34m:\u001b[0m\u001b[0;34m\u001b[0m\u001b[0;34m\u001b[0m\u001b[0m\n\u001b[1;32m    894\u001b[0m                 \u001b[0;31m# re-raise KeyboardInterrupt, to truncate traceback\u001b[0m\u001b[0;34m\u001b[0m\u001b[0;34m\u001b[0m\u001b[0m\n\u001b[0;32m--> 895\u001b[0;31m                 \u001b[0;32mraise\u001b[0m \u001b[0mKeyboardInterrupt\u001b[0m\u001b[0;34m(\u001b[0m\u001b[0;34m\"Interrupted by user\"\u001b[0m\u001b[0;34m)\u001b[0m \u001b[0;32mfrom\u001b[0m \u001b[0;32mNone\u001b[0m\u001b[0;34m\u001b[0m\u001b[0;34m\u001b[0m\u001b[0m\n\u001b[0m\u001b[1;32m    896\u001b[0m             \u001b[0;32mexcept\u001b[0m \u001b[0mException\u001b[0m \u001b[0;32mas\u001b[0m \u001b[0me\u001b[0m\u001b[0;34m:\u001b[0m\u001b[0;34m\u001b[0m\u001b[0;34m\u001b[0m\u001b[0m\n\u001b[1;32m    897\u001b[0m                 \u001b[0mself\u001b[0m\u001b[0;34m.\u001b[0m\u001b[0mlog\u001b[0m\u001b[0;34m.\u001b[0m\u001b[0mwarning\u001b[0m\u001b[0;34m(\u001b[0m\u001b[0;34m\"Invalid Message:\"\u001b[0m\u001b[0;34m,\u001b[0m \u001b[0mexc_info\u001b[0m\u001b[0;34m=\u001b[0m\u001b[0;32mTrue\u001b[0m\u001b[0;34m)\u001b[0m\u001b[0;34m\u001b[0m\u001b[0;34m\u001b[0m\u001b[0m\n",
            "\u001b[0;31mKeyboardInterrupt\u001b[0m: Interrupted by user"
          ]
        }
      ]
    },
    {
      "cell_type": "code",
      "source": [
        "students = ['sehal','sarim','bilal','sehal','sarim']"
      ],
      "metadata": {
        "id": "cvbsk_eCXdAg"
      },
      "execution_count": null,
      "outputs": []
    },
    {
      "cell_type": "code",
      "source": [
        "iteration = 0\n",
        "for x in range(89,95):\n",
        "  print(\"Value at Index \", iteration, \" is \", x)\n",
        "  iteration = iteration + 1"
      ],
      "metadata": {
        "colab": {
          "base_uri": "https://localhost:8080/"
        },
        "id": "D1QXaE1PcWCm",
        "outputId": "5768a6d9-5c64-4824-b1e4-2cb2dc1e20e1"
      },
      "execution_count": null,
      "outputs": [
        {
          "output_type": "stream",
          "name": "stdout",
          "text": [
            "Value at Index  0  is  89\n",
            "Value at Index  1  is  90\n",
            "Value at Index  2  is  91\n",
            "Value at Index  3  is  92\n",
            "Value at Index  4  is  93\n",
            "Value at Index  5  is  94\n"
          ]
        }
      ]
    },
    {
      "cell_type": "code",
      "source": [
        "iteration = 0\n",
        "for x in range(89,95):\n",
        "  if x == 91:\n",
        "    continue\n",
        "  print(\"Value at Index \", iteration, \" is \", x)\n",
        "  iteration = iteration + 1"
      ],
      "metadata": {
        "colab": {
          "base_uri": "https://localhost:8080/"
        },
        "id": "2NwDJuo3c5Yy",
        "outputId": "c58bac2d-bd71-47e7-d336-74bc3a633d19"
      },
      "execution_count": null,
      "outputs": [
        {
          "output_type": "stream",
          "name": "stdout",
          "text": [
            "Value at Index  0  is  89\n",
            "Value at Index  1  is  90\n",
            "Value at Index  2  is  92\n",
            "Value at Index  3  is  93\n",
            "Value at Index  4  is  94\n"
          ]
        }
      ]
    },
    {
      "cell_type": "code",
      "source": [
        "iteration = 0\n",
        "for x in range(89,95):\n",
        "  if x == 91:\n",
        "    break\n",
        "  print(\"Value at Index \", iteration, \" is \", x)\n",
        "  iteration = iteration + 1"
      ],
      "metadata": {
        "colab": {
          "base_uri": "https://localhost:8080/"
        },
        "id": "cevTFsOJeU-g",
        "outputId": "802744bd-088f-4fb0-b0de-dd0c8fb8b744"
      },
      "execution_count": null,
      "outputs": [
        {
          "output_type": "stream",
          "name": "stdout",
          "text": [
            "Value at Index  0  is  89\n",
            "Value at Index  1  is  90\n"
          ]
        }
      ]
    },
    {
      "cell_type": "code",
      "source": [
        "for i in students:\n",
        "  if i == 'bilal':\n",
        "    continue\n",
        "  print(i)"
      ],
      "metadata": {
        "colab": {
          "base_uri": "https://localhost:8080/"
        },
        "id": "IfApnSvYZlwf",
        "outputId": "e2ae6b0e-7b8c-49ed-b44a-7527426c1424"
      },
      "execution_count": null,
      "outputs": [
        {
          "output_type": "stream",
          "name": "stdout",
          "text": [
            "sehal\n",
            "sarim\n",
            "sehal\n",
            "sarim\n"
          ]
        }
      ]
    },
    {
      "cell_type": "code",
      "source": [
        "for i in range(89,105):\n",
        "  print(i)"
      ],
      "metadata": {
        "colab": {
          "base_uri": "https://localhost:8080/"
        },
        "id": "h46Vjqa_aWlL",
        "outputId": "5162b685-1c46-4aec-f013-2c8e2931a345"
      },
      "execution_count": null,
      "outputs": [
        {
          "output_type": "stream",
          "name": "stdout",
          "text": [
            "89\n",
            "90\n",
            "91\n",
            "92\n",
            "93\n",
            "94\n",
            "95\n",
            "96\n",
            "97\n",
            "98\n",
            "99\n",
            "100\n",
            "101\n",
            "102\n",
            "103\n",
            "104\n"
          ]
        }
      ]
    },
    {
      "cell_type": "markdown",
      "source": [
        "### Nested Loops"
      ],
      "metadata": {
        "id": "4cv-fUP70E05"
      }
    },
    {
      "cell_type": "code",
      "source": [],
      "metadata": {
        "id": "lbHKrBVSajwh"
      },
      "execution_count": null,
      "outputs": []
    }
  ]
}